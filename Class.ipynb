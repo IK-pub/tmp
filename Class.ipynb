{
 "cells": [
  {
   "cell_type": "code",
   "execution_count": 22,
   "id": "4f67c82e-b670-46dc-bd4c-dd152ee799f0",
   "metadata": {
    "tags": []
   },
   "outputs": [],
   "source": [
    "class Slices:\n",
    "    def __init__(self, Dimension, All_micro_value=[], Selected_value_original=[], Dimensions_value_new=[]):\n",
    "        self.Dimension = Dimension\n",
    "        self.All_micro_value = All_micro_value\n",
    "        self.Selected_value_original = Selected_value_original\n",
    "        self.Dimensions_value_new = Dimensions_value_new\n",
    "        self._D = Dimensions_value_new\n",
    "    \n",
    "    def print(self):\n",
    "        print(\"Dimension: \",self.Dimension)\n",
    "        print(\"All_micro_value: \",self.All_micro_value)\n",
    "        print(\"Selected_value_original: \",self.Selected_value_original)\n",
    "        print(\"Dimensions_value_new: \",self.Dimensions_value_new)\n",
    "        print(\"_D\",self._D)\n",
    "   \n",
    "    def add_T(self):\n",
    "        self.Dimensions_value_new.append({'_T': self.All_micro_value})\n",
    "\n",
    "    def add(self, k, v):\n",
    "        self.Dimensions_value_new.append({k: v})\n",
    "        \n",
    "    def final(self):\n",
    "        tmp = self.Selected_value_original\n",
    "        for item in self.Dimensions_value_new:\n",
    "            key = next(iter(item))\n",
    "            # values = item[key]\n",
    "            tmp.append(key)\n",
    "        print(tmp)\n"
   ]
  },
  {
   "cell_type": "code",
   "execution_count": 25,
   "id": "50b98205-65d8-4a00-8d10-a2dd8787d533",
   "metadata": {
    "tags": []
   },
   "outputs": [
    {
     "name": "stdout",
     "output_type": "stream",
     "text": [
      "Dimension:  TIME_PERIOD\n",
      "All_micro_value:  ['2021', '2022', '2023']\n",
      "Selected_value_original:  ['2022']\n",
      "Dimensions_value_new:  [{'_T': ['2021', '2022', '2023']}, {'np': ['2021', '2023']}, {'_T': ['2021', '2022', '2023']}, {'np2': ['2021', '2023']}]\n",
      "_D [{'_T': ['2021', '2022', '2023']}, {'np': ['2021', '2023']}, {'_T': ['2021', '2022', '2023']}, {'np2': ['2021', '2023']}]\n",
      "['2022', '_T', 'np', '_T', 'np2']\n"
     ]
    }
   ],
   "source": [
    "# Створення об'єкта класу\n",
    "my_object = Slices(\"TIME_PERIOD\", ['2021','2022','2023'], ['2022'])\n",
    "my_object.add_T()\n",
    "my_object.add('np2', ['2021','2023'])\n",
    "\n",
    "my_object.print()\n",
    "\n",
    "my_object.final()"
   ]
  },
  {
   "cell_type": "code",
   "execution_count": 26,
   "id": "9cc589d9-b016-4c30-bb52-a88d69d44390",
   "metadata": {
    "tags": []
   },
   "outputs": [
    {
     "name": "stdout",
     "output_type": "stream",
     "text": [
      "Dimension:  NO_DATA_REASON\n",
      "All_micro_value:  []\n",
      "Selected_value_original:  ['33', '34', '37', '39', '40', '42']\n",
      "Dimensions_value_new:  [{'_T': ['2021', '2022', '2023']}, {'np': ['2021', '2023']}, {'_T': ['2021', '2022', '2023']}, {'np2': ['2021', '2023']}]\n",
      "_D [{'_T': ['2021', '2022', '2023']}, {'np': ['2021', '2023']}, {'_T': ['2021', '2022', '2023']}, {'np2': ['2021', '2023']}]\n",
      "['33', '34', '37', '39', '40', '42', '_T', 'np', '_T', 'np2']\n"
     ]
    }
   ],
   "source": [
    "my_object2 = Slices(\"NO_DATA_REASON\", Selected_value_original=['33', '34', '37', '39', '40', '42'])\n",
    "my_object2.print()\n",
    "my_object2.final()"
   ]
  },
  {
   "cell_type": "code",
   "execution_count": 5,
   "id": "9879d1ae-cb87-4d39-8704-d10ecc4d0460",
   "metadata": {
    "tags": []
   },
   "outputs": [
    {
     "name": "stdout",
     "output_type": "stream",
     "text": [
      "Dimension:  3\n",
      "All_micro_value:  []\n",
      "Selected_value_original:  []\n",
      "Dimensions_value_new:  [{'_T': ['2021', '2022', '2023']}, {'np': ['2021', '2023']}]\n"
     ]
    }
   ],
   "source": [
    "my_object3 = Slices(\"3\")\n",
    "my_object3.print()"
   ]
  }
 ],
 "metadata": {
  "kernelspec": {
   "display_name": "Python 3 (ipykernel)",
   "language": "python",
   "name": "python3"
  },
  "language_info": {
   "codemirror_mode": {
    "name": "ipython",
    "version": 3
   },
   "file_extension": ".py",
   "mimetype": "text/x-python",
   "name": "python",
   "nbconvert_exporter": "python",
   "pygments_lexer": "ipython3",
   "version": "3.10.11"
  }
 },
 "nbformat": 4,
 "nbformat_minor": 5
}
